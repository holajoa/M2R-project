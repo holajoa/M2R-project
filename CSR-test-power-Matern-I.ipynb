{
 "cells": [
  {
   "cell_type": "code",
   "execution_count": 1,
   "metadata": {},
   "outputs": [],
   "source": [
    "import numpy as np\n",
    "import matplotlib.pyplot as plt\n",
    "from scipy.spatial.distance import squareform, pdist"
   ]
  },
  {
   "cell_type": "code",
   "execution_count": 2,
   "metadata": {},
   "outputs": [
    {
     "data": {
      "text/plain": [
       "<matplotlib.legend.Legend at 0x1ff332e1100>"
      ]
     },
     "execution_count": 2,
     "metadata": {},
     "output_type": "execute_result"
    },
    {
     "data": {
      "image/png": "[encoded data removed]",
      "text/plain": [
       "<Figure size 432x288 with 1 Axes>"
      ]
     },
     "metadata": {
      "needs_background": "light"
     },
     "output_type": "display_data"
    }
   ],
   "source": [
    "def csr(lam, window=[0, 1, 0, 1]):\n",
    "    \"\"\"\n",
    "    An implementation of the completely spatially random point process in a rectangular region. \n",
    "    It returns the $x$- and $y$- coordinates of the simulated points.\n",
    "    \"\"\"\n",
    "    \n",
    "    x_min, x_max, y_min, y_max = window\n",
    "    area = (y_max-y_min)*(x_max-x_min)\n",
    "    N = np.random.poisson(lam*area)\n",
    "    x_list = np.random.uniform(x_min, x_max, N)\n",
    "    y_list = np.random.uniform(y_min, y_max, N)\n",
    "    return x_list, y_list\n",
    "\n",
    "def k_estimate(x, y, window=[0, 1, 0, 1], n=200, r_max=None):\n",
    "    \"\"\"\n",
    "    Estimates the K-function of the input point pattern by Ripley's edge-corrected estimator. \n",
    "    It returns an array of values K(r) and the corresponding array of r values.\n",
    "    \"\"\"\n",
    "    \n",
    "    \n",
    "    points = np.column_stack((x, y))\n",
    "    x_min, x_max, y_min, y_max = window\n",
    "    area = (y_max-y_min)*(x_max-x_min)\n",
    "    N = len(points)\n",
    "    lam_hat = N/area\n",
    "    \n",
    "    u = squareform(pdist(points)) + np.eye(N)\n",
    "    d1 = np.minimum(x - x_min, x_max - x)\n",
    "    d2 = np.minimum(y - y_min, y_max - y)\n",
    "    d1 = np.tile(d1, (N, 1))\n",
    "    d2 = np.tile(d2, (N, 1))\n",
    "    d_hypot = np.hypot(d1, d2)\n",
    "    \n",
    "    w1 = 1 - 1/np.pi*(np.arccos(np.minimum(d1, u)/u) + np.arccos(np.minimum(d2, u)/u))\n",
    "    uu = u.copy()\n",
    "    uu[uu < d_hypot] = d_hypot[uu < d_hypot]\n",
    "    w2 = 3/4 - 1/(2*np.pi)*(np.arccos(d1/uu) + np.arccos(d2/uu))\n",
    "    \n",
    "    d_hypot = np.hypot(d1, d2)\n",
    "    w_ind = u <= d_hypot\n",
    "    w = w_ind*w1 + ~w_ind*w2\n",
    "    u -= np.eye(N)\n",
    "    \n",
    "    if not r_max:\n",
    "        r_max = min(y_max-y_min, x_max-x_min)/2\n",
    "    \n",
    "    r = np.linspace(0, r_max, n)\n",
    "    k = np.zeros(n)\n",
    "    for i in range(n):\n",
    "        d_ind = (u < r[i]) & (u > 0)\n",
    "        k[i] = np.sum((d_ind/w)/N/lam_hat)\n",
    "    \n",
    "    return r, k\n",
    "\n",
    "\n",
    "## Testing\n",
    "x, y = csr(100) # generate a csr point pattern\n",
    "r, k = k_estimate(x, y) # estimate the K-function for the point pattern\n",
    "plt.plot(r, k, ls='--', label=r'$\\hat{K}$') # plot\n",
    "plt.plot(r, np.pi*r**2, label=r'$K_{theo}$')\n",
    "plt.legend()"
   ]
  },
  {
   "cell_type": "code",
   "execution_count": 3,
   "metadata": {},
   "outputs": [
    {
     "data": {
      "text/plain": [
       "True"
      ]
     },
     "execution_count": 3,
     "metadata": {},
     "output_type": "execute_result"
    }
   ],
   "source": [
    "def l_estimate(x, y, **kwargs):\n",
    "    \"\"\"\n",
    "    Estimates the $L$-function of the input point pattern by L(r) = \\sqrt(K(r)/pi). \n",
    "    It returns an array of values L(r) and the corresponding array of r values.\n",
    "    \"\"\"\n",
    "    r, k = k_estimate(x, y, **kwargs)\n",
    "    l = np.sqrt(k/np.pi)\n",
    "    return r, l\n",
    "\n",
    "def sup_L_r(x, y, **kwargs):\n",
    "    \"\"\"\n",
    "    Compute T = sup|L(r) - r| for r < r_max.\n",
    "    \"\"\"\n",
    "    r, l = l_estimate(x, y, **kwargs)\n",
    "    return abs(max(l - r, key=abs))\n",
    "\n",
    "def csr_critical_value(x, y, window=[0, 1, 0, 1], alpha=0.05, nsim=99, **kwargs):\n",
    "    x_min, x_max, y_min, y_max = window\n",
    "    area = (y_max-y_min) * (x_max-x_min)\n",
    "    lam_hat = len(x)/area\n",
    "    \n",
    "    l_stats = np.zeros(nsim)\n",
    "    \n",
    "    for i in range(nsim):\n",
    "        xx, yy = csr(lam_hat, window=window)\n",
    "        sup_l = sup_L_r(xx, yy)\n",
    "        l_stats[i] = sup_l\n",
    "    \n",
    "    return np.quantile(l_stats, 1-alpha)\n",
    "\n",
    "def csr_test(x, y, window=[0, 1, 0, 1], alpha=0.05, nsim=99):\n",
    "    c = csr_critical_value(x, y, window, alpha, nsim)\n",
    "    t = sup_L_r(x, y)\n",
    "    return t < c\n",
    "\n",
    "## Testing\n",
    "x, y = csr(100)\n",
    "csr_test(x, y)"
   ]
  },
  {
   "cell_type": "code",
   "execution_count": 4,
   "metadata": {},
   "outputs": [],
   "source": [
    "def inhibited_process(xmax=1, ymax=1, expectation=100, dist=.05):\n",
    "    xN, yN = np.random.poisson(expectation*xmax), np.random.poisson(expectation*ymax)\n",
    "    events = np.c_[np.random.uniform(low=0, high=xmax, size=xN), np.random.uniform(low=0, high=ymax, size=xN)]\n",
    "    L = len(events)\n",
    "    D = np.zeros((L, L))\n",
    "    for i in range(L):\n",
    "        for j in range(i, L):\n",
    "            D[i, j] = np.linalg.norm(events[i] - events[j])\n",
    "    D = D + D.T\n",
    "    ind = [True] * L\n",
    "    for i, row in enumerate(D):\n",
    "        if (row[row>0] < dist).any():\n",
    "            ind[i] = False\n",
    "    #print(ind[i])\n",
    "    #return events, events[ind]\n",
    "    return events[ind]"
   ]
  },
  {
   "cell_type": "code",
   "execution_count": 6,
   "metadata": {
    "scrolled": false
   },
   "outputs": [
    {
     "name": "stdout",
     "output_type": "stream",
     "text": [
      "deltas: [0.01     0.013125 0.01625  0.019375 0.0225   0.025625 0.02875  0.031875\n",
      " 0.035   ]\n",
      "\n",
      "--------delta = 0.01--------\n",
      "Running simulation 0...\n",
      "Running simulation 100...\n",
      "Running simulation 200...\n",
      "Running simulation 300...\n",
      "Running simulation 400...\n",
      "Running simulation 500...\n",
      "Running simulation 600...\n",
      "Running simulation 700...\n",
      "Running simulation 800...\n",
      "Running simulation 900...\n",
      "power = 49/100\n",
      "--------delta = 0.013125000000000001--------\n",
      "Running simulation 0...\n",
      "Running simulation 100...\n",
      "Running simulation 200...\n",
      "Running simulation 300...\n",
      "Running simulation 400...\n",
      "Running simulation 500...\n",
      "Running simulation 600...\n",
      "Running simulation 700...\n",
      "Running simulation 800...\n",
      "Running simulation 900...\n",
      "power = 79/100\n",
      "--------delta = 0.01625--------\n",
      "Running simulation 0...\n",
      "Running simulation 100...\n",
      "Running simulation 200...\n",
      "Running simulation 300...\n",
      "Running simulation 400...\n",
      "Running simulation 500...\n",
      "Running simulation 600...\n",
      "Running simulation 700...\n",
      "Running simulation 800...\n",
      "Running simulation 900...\n",
      "power = 178/100\n",
      "--------delta = 0.019375000000000003--------\n",
      "Running simulation 0...\n",
      "Running simulation 100...\n",
      "Running simulation 200...\n",
      "Running simulation 300...\n",
      "Running simulation 400...\n",
      "Running simulation 500...\n",
      "Running simulation 600...\n",
      "Running simulation 700...\n",
      "Running simulation 800...\n",
      "Running simulation 900...\n",
      "power = 418/100\n",
      "--------delta = 0.0225--------\n",
      "Running simulation 0...\n",
      "Running simulation 100...\n",
      "Running simulation 200...\n",
      "Running simulation 300...\n",
      "Running simulation 400...\n",
      "Running simulation 500...\n",
      "Running simulation 600...\n",
      "Running simulation 700...\n",
      "Running simulation 800...\n",
      "Running simulation 900...\n",
      "power = 762/100\n",
      "--------delta = 0.025625000000000002--------\n",
      "Running simulation 0...\n",
      "Running simulation 100...\n",
      "Running simulation 200...\n",
      "Running simulation 300...\n",
      "Running simulation 400...\n",
      "Running simulation 500...\n",
      "Running simulation 600...\n",
      "Running simulation 700...\n",
      "Running simulation 800...\n",
      "Running simulation 900...\n",
      "power = 926/100\n",
      "--------delta = 0.028750000000000005--------\n",
      "Running simulation 0...\n",
      "Running simulation 100...\n",
      "Running simulation 200...\n",
      "Running simulation 300...\n",
      "Running simulation 400...\n",
      "Running simulation 500...\n",
      "Running simulation 600...\n",
      "Running simulation 700...\n",
      "Running simulation 800...\n",
      "Running simulation 900...\n",
      "power = 975/100\n",
      "--------delta = 0.031875--------\n",
      "Running simulation 0...\n",
      "Running simulation 100...\n",
      "Running simulation 200...\n",
      "Running simulation 300...\n",
      "Running simulation 400...\n",
      "Running simulation 500...\n",
      "Running simulation 600...\n",
      "Running simulation 700...\n",
      "Running simulation 800...\n",
      "Running simulation 900...\n",
      "power = 985/100\n",
      "--------delta = 0.035--------\n",
      "Running simulation 0...\n",
      "Running simulation 100...\n",
      "Running simulation 200...\n",
      "Running simulation 300...\n",
      "Running simulation 400...\n",
      "Running simulation 500...\n",
      "Running simulation 600...\n",
      "Running simulation 700...\n",
      "Running simulation 800...\n",
      "Running simulation 900...\n",
      "power = 998/100\n"
     ]
    }
   ],
   "source": [
    "power = []\n",
    "deltas = np.linspace(0.01, 0.035, 9)\n",
    "print(f'deltas: {deltas}\\n')\n",
    "for delta in deltas:\n",
    "    print(f'--------delta = {delta}--------')\n",
    "    results = []\n",
    "    for i in range(1000):\n",
    "        if i % 100 == 0:\n",
    "            print(f'Running simulation {i}...')\n",
    "        obs = inhibited_process(xmax=1, ymax=1, expectation=100, dist=delta)\n",
    "        x, y = obs[:,0], obs[:,1]\n",
    "        results.append(csr_test(x, y))\n",
    "    p = 1000 - sum(results)\n",
    "    power.append(p/10)\n",
    "    print(f'power = {p}/100')"
   ]
  },
  {
   "cell_type": "code",
   "execution_count": 7,
   "metadata": {},
   "outputs": [
    {
     "data": {
      "image/png": "[encoded data removed]",
      "text/plain": [
       "<Figure size 504x288 with 1 Axes>"
      ]
     },
     "metadata": {
      "needs_background": "light"
     },
     "output_type": "display_data"
    }
   ],
   "source": [
    "plt.figure(figsize=(7, 4))\n",
    "plt.plot(deltas, power, marker='o', mfc='white', ls='-', c='k')\n",
    "plt.xlabel('hardcore distance', fontsize=12)\n",
    "plt.ylabel('% Null Rejected', fontsize=12)\n",
    "plt.savefig('power_plot_matI.png', dpi=300, bbox_inches='tight')"
   ]
  },
  {
   "cell_type": "code",
   "execution_count": null,
   "metadata": {},
   "outputs": [],
   "source": []
  }
 ],
 "metadata": {
  "kernelspec": {
   "display_name": "Python 3",
   "language": "python",
   "name": "python3"
  },
  "language_info": {
   "codemirror_mode": {
    "name": "ipython",
    "version": 3
   },
   "file_extension": ".py",
   "mimetype": "text/x-python",
   "name": "python",
   "nbconvert_exporter": "python",
   "pygments_lexer": "ipython3",
   "version": "3.8.10"
  }
 },
 "nbformat": 4,
 "nbformat_minor": 2
}
