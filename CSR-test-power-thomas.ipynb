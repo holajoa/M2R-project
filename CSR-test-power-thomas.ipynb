{
 "cells": [
  {
   "cell_type": "markdown",
   "metadata": {},
   "source": [
    "# Power Plot Generation"
   ]
  },
  {
   "cell_type": "code",
   "execution_count": 1,
   "metadata": {},
   "outputs": [],
   "source": [
    "import numpy as np\n",
    "import matplotlib.pyplot as plt\n",
    "from scipy.spatial.distance import squareform, pdist"
   ]
  },
  {
   "cell_type": "code",
   "execution_count": null,
   "metadata": {},
   "outputs": [],
   "source": [
    "def csr(lam, window=[0, 1, 0, 1]):\n",
    "    \"\"\"\n",
    "    An implementation of the completely spatially random point process in a rectangular region. \n",
    "    It returns the $x$- and $y$- coordinates of the simulated points.\n",
    "    \"\"\"\n",
    "    \n",
    "    x_min, x_max, y_min, y_max = window\n",
    "    area = (y_max-y_min)*(x_max-x_min)\n",
    "    N = np.random.poisson(lam*area)\n",
    "    x_list = np.random.uniform(x_min, x_max, N)\n",
    "    y_list = np.random.uniform(y_min, y_max, N)\n",
    "    return x_list, y_list\n",
    "\n",
    "def k_estimate(x, y, window=[0, 1, 0, 1], n=200, r_max=None):\n",
    "    \"\"\"\n",
    "    Estimates the K-function of the input point pattern by Ripley's edge-corrected estimator. \n",
    "    It returns an array of values K(r) and the corresponding array of r values.\n",
    "    \"\"\"\n",
    "    \n",
    "    \n",
    "    points = np.column_stack((x, y))\n",
    "    x_min, x_max, y_min, y_max = window\n",
    "    area = (y_max-y_min)*(x_max-x_min)\n",
    "    N = len(points)\n",
    "    lam_hat = N/area\n",
    "    \n",
    "    u = squareform(pdist(points)) + np.eye(N)\n",
    "    d1 = np.minimum(x - x_min, x_max - x)\n",
    "    d2 = np.minimum(y - y_min, y_max - y)\n",
    "    d1 = np.tile(d1, (N, 1))\n",
    "    d2 = np.tile(d2, (N, 1))\n",
    "    d_hypot = np.hypot(d1, d2)\n",
    "    \n",
    "    w1 = 1 - 1/np.pi*(np.arccos(np.minimum(d1, u)/u) + np.arccos(np.minimum(d2, u)/u))\n",
    "    uu = u.copy()\n",
    "    uu[uu < d_hypot] = d_hypot[uu < d_hypot]\n",
    "    w2 = 3/4 - 1/(2*np.pi)*(np.arccos(d1/uu) + np.arccos(d2/uu))\n",
    "    \n",
    "    d_hypot = np.hypot(d1, d2)\n",
    "    w_ind = u <= d_hypot\n",
    "    w = w_ind*w1 + ~w_ind*w2\n",
    "    u -= np.eye(N)\n",
    "    \n",
    "    if not r_max:\n",
    "        r_max = min(y_max-y_min, x_max-x_min)/2\n",
    "    \n",
    "    r = np.linspace(0, r_max, n)\n",
    "    k = np.zeros(n)\n",
    "    for i in range(n):\n",
    "        d_ind = (u < r[i]) & (u > 0)\n",
    "        k[i] = np.sum((d_ind/w)/N/lam_hat)\n",
    "    \n",
    "    return r, k"
   ]
  },
  {
   "cell_type": "code",
   "execution_count": null,
   "metadata": {},
   "outputs": [],
   "source": [
    "def l_estimate(x, y, **kwargs):\n",
    "    \"\"\"\n",
    "    Estimates the $L$-function of the input point pattern by L(r) = \\sqrt(K(r)/pi). \n",
    "    It returns an array of values L(r) and the corresponding array of r values.\n",
    "    \"\"\"\n",
    "    r, k = k_estimate(x, y, **kwargs)\n",
    "    l = np.sqrt(k/np.pi)\n",
    "    return r, l\n",
    "\n",
    "def sup_L_r(x, y, **kwargs):\n",
    "    \"\"\"\n",
    "    Compute T = sup|L(r) - r| for r < r_max.\n",
    "    \"\"\"\n",
    "    r, l = l_estimate(x, y, **kwargs)\n",
    "    return abs(max(l - r, key=abs))\n",
    "\n",
    "def csr_critical_value(x, y, window=[0, 1, 0, 1], alpha=0.05, nsim=99, **kwargs):\n",
    "    x_min, x_max, y_min, y_max = window\n",
    "    area = (y_max-y_min) * (x_max-x_min)\n",
    "    lam_hat = len(x)/area\n",
    "    \n",
    "    l_stats = np.zeros(nsim)\n",
    "    \n",
    "    for i in range(nsim):\n",
    "        xx, yy = csr(lam_hat, window=window)\n",
    "        sup_l = sup_L_r(xx, yy)\n",
    "        l_stats[i] = sup_l\n",
    "    \n",
    "    return np.quantile(l_stats, 1-alpha)\n",
    "\n",
    "def csr_test(x, y, window=[0, 1, 0, 1], alpha=0.05, nsim=99):\n",
    "    c = csr_critical_value(x, y, window, alpha, nsim)\n",
    "    t = sup_L_r(x, y)\n",
    "    return t < c"
   ]
  },
  {
   "cell_type": "code",
   "execution_count": null,
   "metadata": {},
   "outputs": [],
   "source": [
    "def thomas_process(rho_centre = 10, \n",
    "                   mu_cluster = 100, \n",
    "                   sigma = 0.05, \n",
    "                   boundary=[0, 1, 0, 1]):\n",
    "\n",
    "    # Simulation window parameters\n",
    "    xMin = boundary[0];\n",
    "    xMax = boundary[1];\n",
    "    yMin = boundary[2];\n",
    "    yMax = boundary[3];\n",
    "\n",
    "    # Extended simulation windows parameters\n",
    "    rExt=6*sigma; # extension parameter \n",
    "    # for rExt, use factor of deviation sigma eg 5 or 6\n",
    "    xMinExt = xMin - rExt;\n",
    "    xMaxExt = xMax + rExt;\n",
    "    yMinExt = yMin - rExt;\n",
    "    yMaxExt = yMax + rExt;\n",
    "    # rectangle dimensions\n",
    "    xDeltaExt = xMaxExt - xMinExt;\n",
    "    yDeltaExt = yMaxExt - yMinExt;\n",
    "    areaTotalExt = xDeltaExt * yDeltaExt;  # area of extended rectangle\n",
    "\n",
    "    # Simulate Poisson point process for the parents\n",
    "    numbPointsParent = np.random.poisson(areaTotalExt * rho_centre);# Poisson number of points\n",
    "    # x and y coordinates of Poisson points for the parent\n",
    "    xxParent = xMinExt + xDeltaExt * np.random.uniform(0, 1, numbPointsParent);\n",
    "    yyParent = yMinExt + yDeltaExt * np.random.uniform(0, 1, numbPointsParent);\n",
    "\n",
    "    # Simulate Poisson point process for the daughters (ie final poiint process)\n",
    "    numbPointsDaughter = np.random.poisson(mu_cluster, numbPointsParent);\n",
    "    numbPoints = sum(numbPointsDaughter);  # total number of points\n",
    "\n",
    "    # Generate the (relative) locations in Cartesian coordinates by\n",
    "    # simulating independent normal variables\n",
    "    xx0 = np.random.normal(0, sigma, numbPoints);  # (relative) x coordinaets\n",
    "    yy0 = np.random.normal(0, sigma, numbPoints);  # (relative) y coordinates\n",
    "\n",
    "    # replicate parent points (ie centres of disks/clusters)\n",
    "    xx = np.repeat(xxParent, numbPointsDaughter);\n",
    "    yy = np.repeat(yyParent, numbPointsDaughter);\n",
    "\n",
    "    # translate points (ie parents points are the centres of cluster disks)\n",
    "    xx = xx + xx0;\n",
    "    yy = yy + yy0;\n",
    "\n",
    "    # thin points if outside the simulation window\n",
    "    booleInside = ((xx >= xMin) & (xx <= xMax) & (yy >= yMin) & (yy <= yMax));\n",
    "    # retain points inside simulation window\n",
    "    xx = xx[booleInside];  \n",
    "    yy = yy[booleInside];\n",
    "    return xx, yy\n",
    "\n",
    "# this was the code taken directly from created H. Paul Keeler "
   ]
  },
  {
   "cell_type": "markdown",
   "metadata": {},
   "source": [
    "$\\text{Keeler H.P.} \\hspace{2mm}\\textit{Simulating a Thomas cluster point process}. \\text{Available from}$ https://hpaulkeeler.com/simulating-a-thomas-cluster-point-process/ $\\text{[Accessed 14th June 2021]}$"
   ]
  },
  {
   "cell_type": "code",
   "execution_count": null,
   "metadata": {},
   "outputs": [],
   "source": [
    "# for each sigma we simulated 1000 different thomas processes with \n",
    "# rho = 5, mu = 20 on a 1*1 window\n",
    "# hypothesis tests have a 5% confidence\n",
    "sigmas_t = [0.1, 0.125, 0.15, 0.175, 0.2, \n",
    "            0.25, 0.3, 0.4, 0.5, 0.6, 0.7]\n",
    "powers_t = []\n",
    "for sigma in sigmas_t:\n",
    "    results = []\n",
    "    for i in range(1000):\n",
    "        obs = thomas_process(rho_centre = 5, \n",
    "                             mu_cluster = 20, \n",
    "                             sigma = sigma, \n",
    "                             boundary=[0, 1, 0, 1])\n",
    "        x, y = obs\n",
    "        results.append(csr_test(x, y))\n",
    "    power_t.append((1000 - sum(results))/10)"
   ]
  },
  {
   "cell_type": "code",
   "execution_count": 2,
   "metadata": {},
   "outputs": [],
   "source": [
    "# the output of my simulation\n",
    "powers_t = [99.4, 98.0, 92.4, 81.9, 69.4, \n",
    "            42.7, 32.2, 11.8, 7.5, 5.8, 6.1]\n",
    "sigmas_t = [0.1, 0.125, 0.15, 0.175, 0.2, \n",
    "            0.25, 0.3, 0.4, 0.5, 0.6, 0.7]"
   ]
  },
  {
   "cell_type": "code",
   "execution_count": 3,
   "metadata": {},
   "outputs": [
    {
     "data": {
      "image/png": "[encoded data removed]",
      "text/plain": [
       "<Figure size 504x288 with 1 Axes>"
      ]
     },
     "metadata": {
      "needs_background": "light"
     },
     "output_type": "display_data"
    }
   ],
   "source": [
    "plt.figure(figsize=(7, 4))\n",
    "plt.plot(sigmas_t, powers_t, marker='o', mfc='white', ls='-', c='k')\n",
    "plt.xlabel('sigma', fontsize=12)\n",
    "plt.ylabel('% Null Rejected', fontsize=12)\n",
    "plt.savefig('tom-power.png', dpi=300, bbox_inches='tight')"
   ]
  },
  {
   "cell_type": "code",
   "execution_count": null,
   "metadata": {},
   "outputs": [],
   "source": []
  }
 ],
 "metadata": {
  "kernelspec": {
   "display_name": "Python 3",
   "language": "python",
   "name": "python3"
  },
  "language_info": {
   "codemirror_mode": {
    "name": "ipython",
    "version": 3
   },
   "file_extension": ".py",
   "mimetype": "text/x-python",
   "name": "python",
   "nbconvert_exporter": "python",
   "pygments_lexer": "ipython3",
   "version": "3.7.4"
  }
 },
 "nbformat": 4,
 "nbformat_minor": 2
}
