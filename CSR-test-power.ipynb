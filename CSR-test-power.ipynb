{
 "cells": [
  {
   "cell_type": "code",
   "execution_count": 1,
   "id": "871b2c92",
   "metadata": {},
   "outputs": [],
   "source": [
    "import numpy as np\n",
    "import matplotlib.pyplot as plt\n",
    "from scipy.spatial.distance import squareform, pdist"
   ]
  },
  {
   "cell_type": "code",
   "execution_count": 2,
   "id": "0f844c74",
   "metadata": {
    "scrolled": true
   },
   "outputs": [
    {
     "data": {
      "text/plain": [
       "<matplotlib.legend.Legend at 0x1ad76f71100>"
      ]
     },
     "execution_count": 2,
     "metadata": {},
     "output_type": "execute_result"
    },
    {
     "data": {
      "image/png": "[encoded data removed]",
      "text/plain": [
       "<Figure size 432x288 with 1 Axes>"
      ]
     },
     "metadata": {
      "needs_background": "light"
     },
     "output_type": "display_data"
    }
   ],
   "source": [
    "def csr(lam, window=[0, 1, 0, 1]):\n",
    "    \"\"\"\n",
    "    An implementation of the completely spatially random point process in a rectangular region. \n",
    "    It returns the $x$- and $y$- coordinates of the simulated points.\n",
    "    \"\"\"\n",
    "    \n",
    "    x_min, x_max, y_min, y_max = window\n",
    "    area = (y_max-y_min)*(x_max-x_min)\n",
    "    N = np.random.poisson(lam*area)\n",
    "    x_list = np.random.uniform(x_min, x_max, N)\n",
    "    y_list = np.random.uniform(y_min, y_max, N)\n",
    "    return x_list, y_list\n",
    "\n",
    "def k_estimate(x, y, window=[0, 1, 0, 1], n=200, r_max=None):\n",
    "    \"\"\"\n",
    "    Estimates the K-function of the input point pattern by Ripley's edge-corrected estimator. \n",
    "    It returns an array of values K(r) and the corresponding array of r values.\n",
    "    \"\"\"\n",
    "    \n",
    "    \n",
    "    points = np.column_stack((x, y))\n",
    "    x_min, x_max, y_min, y_max = window\n",
    "    area = (y_max-y_min)*(x_max-x_min)\n",
    "    N = len(points)\n",
    "    lam_hat = N/area\n",
    "    \n",
    "    u = squareform(pdist(points)) + np.eye(N)\n",
    "    d1 = np.minimum(x - x_min, x_max - x)\n",
    "    d2 = np.minimum(y - y_min, y_max - y)\n",
    "    d1 = np.tile(d1, (N, 1))\n",
    "    d2 = np.tile(d2, (N, 1))\n",
    "    d_hypot = np.hypot(d1, d2)\n",
    "    \n",
    "    w1 = 1 - 1/np.pi*(np.arccos(np.minimum(d1, u)/u) + np.arccos(np.minimum(d2, u)/u))\n",
    "    uu = u.copy()\n",
    "    uu[uu < d_hypot] = d_hypot[uu < d_hypot]\n",
    "    w2 = 3/4 - 1/(2*np.pi)*(np.arccos(d1/uu) + np.arccos(d2/uu))\n",
    "    \n",
    "    d_hypot = np.hypot(d1, d2)\n",
    "    w_ind = u <= d_hypot\n",
    "    w = w_ind*w1 + ~w_ind*w2\n",
    "    u -= np.eye(N)\n",
    "    \n",
    "    if not r_max:\n",
    "        r_max = min(y_max-y_min, x_max-x_min)/2\n",
    "    \n",
    "    r = np.linspace(0, r_max, n)\n",
    "    k = np.zeros(n)\n",
    "    for i in range(n):\n",
    "        d_ind = (u < r[i]) & (u > 0)\n",
    "        k[i] = np.sum((d_ind/w)/N/lam_hat)\n",
    "    \n",
    "    return r, k\n",
    "\n",
    "\n",
    "## Testing\n",
    "x, y = csr(100) # generate a csr point pattern\n",
    "r, k = k_estimate(x, y) # estimate the K-function for the point pattern\n",
    "plt.plot(r, k, ls='--', label=r'$\\hat{K}$') # plot\n",
    "plt.plot(r, np.pi*r**2, label=r'$K_{theo}$')\n",
    "plt.legend()"
   ]
  },
  {
   "cell_type": "code",
   "execution_count": 3,
   "id": "907d83f3",
   "metadata": {},
   "outputs": [
    {
     "data": {
      "text/plain": [
       "True"
      ]
     },
     "execution_count": 3,
     "metadata": {},
     "output_type": "execute_result"
    }
   ],
   "source": [
    "def l_estimate(x, y, **kwargs):\n",
    "    \"\"\"\n",
    "    Estimates the $L$-function of the input point pattern by L(r) = \\sqrt(K(r)/pi). \n",
    "    It returns an array of values L(r) and the corresponding array of r values.\n",
    "    \"\"\"\n",
    "    r, k = k_estimate(x, y, **kwargs)\n",
    "    l = np.sqrt(k/np.pi)\n",
    "    return r, l\n",
    "\n",
    "def sup_L_r(x, y, **kwargs):\n",
    "    \"\"\"\n",
    "    Compute T = sup|L(r) - r| for r < r_max.\n",
    "    \"\"\"\n",
    "    r, l = l_estimate(x, y, **kwargs)\n",
    "    return abs(max(l - r, key=abs))\n",
    "\n",
    "def csr_critical_value(x, y, window=[0, 1, 0, 1], alpha=0.05, nsim=99, **kwargs):\n",
    "    x_min, x_max, y_min, y_max = window\n",
    "    area = (y_max-y_min) * (x_max-x_min)\n",
    "    lam_hat = len(x)/area\n",
    "    \n",
    "    l_stats = np.zeros(nsim)\n",
    "    \n",
    "    for i in range(nsim):\n",
    "        xx, yy = csr(lam_hat, window=window)\n",
    "        sup_l = sup_L_r(xx, yy)\n",
    "        l_stats[i] = sup_l\n",
    "    \n",
    "    return np.quantile(l_stats, 1-alpha)\n",
    "\n",
    "def csr_test(x, y, window=[0, 1, 0, 1], alpha=0.05, nsim=100):\n",
    "    c = csr_critical_value(x, y, window, alpha, nsim)\n",
    "    t = sup_L_r(x, y)\n",
    "    return t < c\n",
    "\n",
    "## Testing\n",
    "x, y = csr(100)\n",
    "csr_test(x, y)"
   ]
  },
  {
   "cell_type": "code",
   "execution_count": 8,
   "id": "ef9554de",
   "metadata": {
    "scrolled": true
   },
   "outputs": [
    {
     "name": "stdout",
     "output_type": "stream",
     "text": [
      "intensity:[ 0.  1.  2.  3.  4.  5.  6.  7.  8.  9. 10. 11. 12.]\n",
      "Running: intensity = 0.0 ...\n",
      "power = 100.0\n",
      "Running: intensity = 1.0 ...\n",
      "power = 86.5\n",
      "Running: intensity = 2.0 ...\n",
      "power = 54.0\n",
      "Running: intensity = 3.0 ...\n",
      "power = 36.1\n",
      "Running: intensity = 4.0 ...\n",
      "power = 20.2\n",
      "Running: intensity = 5.0 ...\n",
      "power = 10.1\n",
      "Running: intensity = 6.0 ...\n",
      "power = 5.6\n",
      "Running: intensity = 7.0 ...\n",
      "power = 3.0\n",
      "Running: intensity = 8.0 ...\n",
      "power = 1.3\n",
      "Running: intensity = 9.0 ...\n",
      "power = 1.3\n",
      "Running: intensity = 10.0 ...\n",
      "power = 0.5\n",
      "Running: intensity = 11.0 ...\n",
      "power = 0.9\n",
      "Running: intensity = 12.0 ...\n",
      "power = 0.3\n"
     ]
    }
   ],
   "source": [
    "lambs = np.linspace(0, 12, 13)\n",
    "print(f'intensity:{lambs}')\n",
    "power = []\n",
    "for lamb in lambs:\n",
    "    print(f'Running: intensity = {lamb} ...')\n",
    "    results = []\n",
    "    for _ in range(1000):\n",
    "        obs = csr(lamb)\n",
    "        x, y = obs\n",
    "        results.append(csr_test(x, y))\n",
    "    power.append((1000 - sum(results))/10)\n",
    "    print(f'power = {power[-1]}')"
   ]
  },
  {
   "cell_type": "code",
   "execution_count": 10,
   "id": "2f619ad6",
   "metadata": {},
   "outputs": [
    {
     "data": {
      "image/png": "[encoded data removed]",
      "text/plain": [
       "<Figure size 504x288 with 1 Axes>"
      ]
     },
     "metadata": {
      "needs_background": "light"
     },
     "output_type": "display_data"
    }
   ],
   "source": [
    "plt.figure(figsize=(7, 4))\n",
    "plt.plot(np.arange(0, 13, 1), power, marker='o', mfc='white', ls='-', c='k')\n",
    "plt.xlabel('intensity', fontsize=12)\n",
    "plt.ylabel('% Null Rejected', fontsize=12)\n",
    "plt.savefig('csr-power.png', dpi=300, bbox_inches='tight')"
   ]
  },
  {
   "cell_type": "code",
   "execution_count": null,
   "id": "e19a0939",
   "metadata": {},
   "outputs": [],
   "source": []
  }
 ],
 "metadata": {
  "kernelspec": {
   "display_name": "Python 3",
   "language": "python",
   "name": "python3"
  },
  "language_info": {
   "codemirror_mode": {
    "name": "ipython",
    "version": 3
   },
   "file_extension": ".py",
   "mimetype": "text/x-python",
   "name": "python",
   "nbconvert_exporter": "python",
   "pygments_lexer": "ipython3",
   "version": "3.8.10"
  }
 },
 "nbformat": 4,
 "nbformat_minor": 5
}
